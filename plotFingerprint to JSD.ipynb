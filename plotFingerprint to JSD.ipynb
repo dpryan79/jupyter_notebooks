{
 "cells": [
  {
   "cell_type": "markdown",
   "metadata": {},
   "source": [
    "This is generic code showing how to calculate a Jensen-Shannon distance from `plotFingerprint` output. These are two DEEP samples that I randomly chose.\n",
    "\n",
    "\"foo.cnts\" holds the counts produced by plotFingerprint."
   ]
  },
  {
   "cell_type": "code",
   "execution_count": 35,
   "metadata": {
    "collapsed": true
   },
   "outputs": [],
   "source": [
    "%matplotlib inline\n",
    "import numpy as np\n",
    "from scipy import interpolate\n",
    "import matplotlib.pyplot as plt\n",
    "\n",
    "f = open(\"foo.cnts\")\n",
    "chip = np.zeros(20000, dtype=np.int)\n",
    "input = np.zeros(20000, dtype=np.int)\n",
    "for line in f:\n",
    "    if line.startswith(\"'\"):\n",
    "        continue\n",
    "    cols = line.strip().split(\"\\t\")\n",
    "    cols = [int(x) for x in cols]\n",
    "    if cols[0] > 0:\n",
    "        if cols[0] >= 20000:\n",
    "            cols[0] = 19999\n",
    "        chip[cols[0]] += 1\n",
    "    if cols[1] > 0:\n",
    "        if cols[1] >= 20000:\n",
    "            cols[1] = 19999\n",
    "        input[cols[1]] += 1\n",
    "\n",
    "def signalAndBinDist(x):\n",
    "    x = np.array(x)\n",
    "    (n,) = x.shape\n",
    "    signalValues = np.array(list(range(n)))\n",
    "    totalSignal = x * signalValues\n",
    "    normalizedTotalSignal = np.cumsum(totalSignal) / np.sum(totalSignal)\n",
    "    binDist = np.cumsum(x)/sum(x)\n",
    "    interpolater = interpolate.interp1d(binDist, normalizedTotalSignal, fill_value=\"extrapolate\")\n",
    "    return (binDist, normalizedTotalSignal, interpolater)\n",
    "\n",
    "chipSignal = signalAndBinDist(chip)\n",
    "inputSignal = signalAndBinDist(input)\n",
    "chipSignalInterp = chipSignal[2](inputSignal[0])"
   ]
  },
  {
   "cell_type": "markdown",
   "metadata": {},
   "source": [
    "`chipSignal` and `inputSignal` are tuples of the CDF of the coverage and genomic coverages. The interpolation makes the coverage bins with 0 counts the same between both samples. I'm not sure how legitimate that is, though presumably in practice cases where this"
   ]
  },
  {
   "cell_type": "code",
   "execution_count": 36,
   "metadata": {
    "collapsed": true
   },
   "outputs": [],
   "source": [
    "PMFinput = np.ediff1d(inputSignal[1])\n",
    "PMFchip = np.ediff1d(chipSignalInterp)"
   ]
  },
  {
   "cell_type": "markdown",
   "metadata": {},
   "source": [
    "The PMFs still contain zeros, so those need to be excluded when computing the JSD. Since they should now always be at the same spot in both PMFs then this is legitimate. The output is the Jensen-Shannon distance (aka, `sqrt(JS divergence)`). The ChIP here is for H3K4Me3, so this is somewhere in the upper distribution of distances for it (according to the slides)."
   ]
  },
  {
   "cell_type": "code",
   "execution_count": 37,
   "metadata": {
    "collapsed": false
   },
   "outputs": [
    {
     "data": {
      "text/plain": [
       "0.4308556087266856"
      ]
     },
     "execution_count": 37,
     "metadata": {},
     "output_type": "execute_result"
    }
   ],
   "source": [
    "M = (PMFinput + PMFchip) / 2.0\n",
    "idx = np.nonzero(M)\n",
    "JSD = 0.5 * (np.sum(PMFinput[idx] * np.log2(PMFinput[idx]/M[idx]))) + 0.5 * (np.sum(PMFchip[idx] * np.log2(PMFchip[idx]/M[idx])))\n",
    "np.sqrt(JSD)"
   ]
  },
  {
   "cell_type": "markdown",
   "metadata": {},
   "source": [
    "Since I was curious, we also get \"peaky\" data in the input coverage histogram on occasion (though not in the ChIP in this case)."
   ]
  },
  {
   "cell_type": "code",
   "execution_count": 39,
   "metadata": {
    "collapsed": false
   },
   "outputs": [
    {
     "data": {
      "image/png": "[encoded data removed]",
      "text/plain": [
       "<matplotlib.figure.Figure at 0x7fc4be9437f0>"
      ]
     },
     "metadata": {},
     "output_type": "display_data"
    }
   ],
   "source": [
    "plt.plot(chip, \"r\", input, \"b\")\n",
    "plt.axis([0, 100, 0, 40000])\n",
    "plt.show()"
   ]
  }
 ],
 "metadata": {
  "kernelspec": {
   "display_name": "Python 3",
   "language": "python",
   "name": "python3"
  },
  "language_info": {
   "codemirror_mode": {
    "name": "ipython",
    "version": 3
   },
   "file_extension": ".py",
   "mimetype": "text/x-python",
   "name": "python",
   "nbconvert_exporter": "python",
   "pygments_lexer": "ipython3",
   "version": "3.5.1+"
  }
 },
 "nbformat": 4,
 "nbformat_minor": 0
}
