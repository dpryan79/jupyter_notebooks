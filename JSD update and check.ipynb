{
 "cells": [
  {
   "cell_type": "markdown",
   "metadata": {},
   "source": [
    "This is a slight update to the JSD calculation used in plotFingerprint, mostly to catch bugs. As input, this takes the `--outRawCounts` file from `plotFingerprint`.\n",
    "\n",
    "If correct, these samples are kind of crappy.\n",
    "\n",
    "The `sys.path` stuff is just due to how I'm running this locally."
   ]
  },
  {
   "cell_type": "code",
   "execution_count": 3,
   "metadata": {
    "collapsed": false
   },
   "outputs": [],
   "source": [
    "import sys\n",
    "del sys.path[7]"
   ]
  },
  {
   "cell_type": "code",
   "execution_count": 15,
   "metadata": {
    "collapsed": false
   },
   "outputs": [
    {
     "name": "stdout",
     "output_type": "stream",
     "text": [
      "['CD4_100000_fix_H3K27ac', 'CD4_100000_fix_H3K27me3', 'CD4_100000_fix_H3K4me3', 'CD4_100000_fix_Input']\n"
     ]
    }
   ],
   "source": [
    "f = open(\"CD4_100000_fix.rawcounts.txt\")\n",
    "\n",
    "import numpy as np\n",
    "mat = []\n",
    "labels = None\n",
    "for line in f:\n",
    "    if line.startswith(\"'\"):\n",
    "        labels = line.strip().split(\"\\t\")\n",
    "        labels = [x.strip(\"'\") for x in labels]\n",
    "        continue\n",
    "    cols = line.strip().split(\"\\t\")\n",
    "    cols = [int(x) for x in cols]\n",
    "    mat.append(cols)\n",
    "\n",
    "mat = np.array(mat)\n",
    "mat = mat.T\n",
    "\n",
    "print labels"
   ]
  },
  {
   "cell_type": "code",
   "execution_count": 91,
   "metadata": {
    "collapsed": false
   },
   "outputs": [],
   "source": [
    "from scipy import interpolate\n",
    "def getJSD(labels, reference, idx, mat):\n",
    "    \"\"\"\n",
    "    Computes the Jensen-Shannon distance between two samples. This is essentially\n",
    "    a symmetric version of Kullback-Leibler divergence. The implementation\n",
    "    presented here is based on code from Sitanshu Gakkhar at BCGSC.\n",
    "    Note that the interpolation has the effect of removing zero count coverage\n",
    "    bins, which ends up being needed for the JSD calculation.\n",
    "    args: The input arguments\n",
    "    idx:  The column index of the current sample\n",
    "    mat:  The matrix of counts\n",
    "    \"\"\"\n",
    "\n",
    "    # Get the index of the reference sample\n",
    "    if reference not in labels:\n",
    "        return \"NA\"\n",
    "    refIdx = labels.index(reference)\n",
    "    if refIdx == idx:\n",
    "        return \"NA\"\n",
    "\n",
    "    # These will hold the coverage histograms\n",
    "    chip = np.zeros(20000, dtype=np.int)\n",
    "    input = np.zeros(20000, dtype=np.int)\n",
    "    for row in mat:\n",
    "        # ChIP\n",
    "        val = row[idx]\n",
    "        # N.B., we need to clip past the end of the array\n",
    "        if val >= 20000:\n",
    "            val = 19999\n",
    "        # This effectively removes differences due to coverage percentages\n",
    "        if val > 0:\n",
    "            chip[int(val)] += 1\n",
    "\n",
    "        # Input\n",
    "        val = row[refIdx]\n",
    "        if val >= 20000:\n",
    "            val = 19999\n",
    "        if val > 0:\n",
    "            input[int(val)] += 1\n",
    "\n",
    "    def signalAndBinDist(x):\n",
    "        x = np.array(x)\n",
    "        (n,) = x.shape\n",
    "        signalValues = np.array(list(range(n)))\n",
    "        totalSignal = x * signalValues\n",
    "        normalizedTotalSignal = np.cumsum(totalSignal) / np.sum(totalSignal).astype(\"float\")\n",
    "        binDist = np.cumsum(x).astype(\"float\") / sum(x)\n",
    "        interpolater = interpolate.interp1d(binDist, normalizedTotalSignal, fill_value=\"extrapolate\")\n",
    "        return (binDist, normalizedTotalSignal, interpolater)\n",
    "\n",
    "    # Interpolate the signals to evenly spaced bins, which also removes 0-coverage bins\n",
    "    chipSignal = signalAndBinDist(chip)\n",
    "    inputSignal = signalAndBinDist(input)\n",
    "\n",
    "    # These are basically CDFs\n",
    "    inputSignalInterp = inputSignal[2](np.arange(0, 1.00001, 0.00001))\n",
    "    chipSignalInterp = chipSignal[2](np.arange(0, 1.00001, 0.00001))\n",
    "\n",
    "    # If there are no low coverage bins then you can get nan as the first interpolated value.\n",
    "    # That should instead be some small value\n",
    "    if np.isnan(inputSignalInterp[0]):\n",
    "        inputSignalInterp[0] = 1e-12\n",
    "    if np.isnan(chipSignalInterp[0]):\n",
    "        chipSignalInterp[0] = 1e-12\n",
    "\n",
    "    # Differentiate to PMFs, do some sanity checking\n",
    "    PMFinput = np.ediff1d(inputSignalInterp)\n",
    "    PMFchip = np.ediff1d(chipSignalInterp)\n",
    "    if abs(sum(PMFinput) - 1) > 0.01 or abs(sum(PMFchip) - 1) > 0.01:\n",
    "        sys.stderr.write(\"Warning: At least one PMF integral is significantly different from 1! The JSD will not be returned\")\n",
    "        return \"NA\"\n",
    "\n",
    "    # Compute the JSD from the PMFs\n",
    "    M = (PMFinput + PMFchip) / 2.0\n",
    "    JSD = 0.5 * (np.sum(PMFinput * np.log2(PMFinput / M))) + 0.5 * (np.sum(PMFchip * np.log2(PMFchip / M)))\n",
    "    np.sqrt(JSD)\n",
    "\n",
    "    return JSD"
   ]
  },
  {
   "cell_type": "code",
   "execution_count": 94,
   "metadata": {
    "collapsed": false
   },
   "outputs": [
    {
     "name": "stdout",
     "output_type": "stream",
     "text": [
      "CD4_100000_fix_H3K27ac: 0.00592408514627\n",
      "CD4_100000_fix_H3K27me3: 0.00360687521836\n",
      "CD4_100000_fix_H3K4me3: 0.00684560175001\n",
      "CD4_100000_fix_Input: NA\n"
     ]
    }
   ],
   "source": [
    "for i in range(len(labels)):\n",
    "    foo = getJSD(labels, labels[-1], i, mat)\n",
    "    print(\"{}: {}\".format(labels[i], foo))"
   ]
  },
  {
   "cell_type": "code",
   "execution_count": null,
   "metadata": {
    "collapsed": true
   },
   "outputs": [],
   "source": []
  }
 ],
 "metadata": {
  "kernelspec": {
   "display_name": "Python 2",
   "language": "python",
   "name": "python2"
  },
  "language_info": {
   "codemirror_mode": {
    "name": "ipython",
    "version": 2
   },
   "file_extension": ".py",
   "mimetype": "text/x-python",
   "name": "python",
   "nbconvert_exporter": "python",
   "pygments_lexer": "ipython2",
   "version": "2.7.12"
  }
 },
 "nbformat": 4,
 "nbformat_minor": 0
}
