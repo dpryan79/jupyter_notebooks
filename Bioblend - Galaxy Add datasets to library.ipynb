{
 "cells": [
  {
   "cell_type": "markdown",
   "metadata": {},
   "source": [
    "This notebook demonstrates how to link files into a Galaxy data library. The library must exist for this to work. This notebook uses [bioblend](https://github.com/galaxyproject/bioblend). It's necessary to have a Galaxy API key, which is read in from a file in the home directory."
   ]
  },
  {
   "cell_type": "code",
   "execution_count": 1,
   "metadata": {
    "collapsed": false
   },
   "outputs": [],
   "source": [
    "from bioblend.galaxy import GalaxyInstance\n",
    "import sys\n",
    "import os\n",
    "\n",
    "f = open(\"{}/.galaxy_key\".format(os.path.expanduser(\"~\")))\n",
    "userKey = f.readline().strip()\n",
    "f.close()\n",
    "url = \"http://pc331.immunbio.mpg.de:8888\"\n",
    "\n",
    "gi = GalaxyInstance(url=url, key=userKey)"
   ]
  },
  {
   "cell_type": "markdown",
   "metadata": {},
   "source": [
    "These are the folders the currently exist in the `foo bar` library."
   ]
  },
  {
   "cell_type": "code",
   "execution_count": 2,
   "metadata": {
    "collapsed": false
   },
   "outputs": [
    {
     "name": "stdout",
     "output_type": "stream",
     "text": [
      "1 folders\n",
      "name: /\n",
      "url: /api/libraries/f2db41e1fa331b3e/contents/Ff2db41e1fa331b3e\n",
      "id: Ff2db41e1fa331b3e\n",
      "type: folder\n"
     ]
    }
   ],
   "source": [
    "folders = gi.libraries.get_folders(gi.libraries.get_libraries(name=\"foo bar\")[0][\"id\"])\n",
    "print(\"{} folders\".format(len(folders)))\n",
    "for k, v in folders[0].items():\n",
    "    print(\"{}: {}\".format(k, v))"
   ]
  },
  {
   "cell_type": "markdown",
   "metadata": {},
   "source": [
    "`addFileToLibrary()` is a wrapper around all of the other functions is is probably the one to directly use."
   ]
  },
  {
   "cell_type": "code",
   "execution_count": 3,
   "metadata": {
    "collapsed": false
   },
   "outputs": [],
   "source": [
    "def getLibID(gi, libName):\n",
    "    \"\"\"\n",
    "    Given a library name, like \"foo bar\", return the ID for the first library matching that\n",
    "    \"\"\"\n",
    "    lib = gi.libraries.get_libraries(name=libName)\n",
    "    if not lib or len(lib) == 0:\n",
    "        raise RuntimeError(\"No library named {}\".format(libName))\n",
    "    return lib[0][\"id\"]\n",
    "\n",
    "\n",
    "def getFolderID(gi, libID, path):\n",
    "    \"\"\"\n",
    "    Given a library ID (lib) and a path (e.g., \"/foo/bar/sniggly3\"), return the folder ID for sniggly3.\n",
    "    \n",
    "    If the path doesn't exist (in part or in total), then create it.\n",
    "    \"\"\"\n",
    "    # Does the path already exist?\n",
    "    folders = gi.libraries.get_folders(libID, name=path)\n",
    "    if folders is not None and len(folders) > 0:\n",
    "        return folders[0][\"id\"]\n",
    "    \n",
    "    # Get the closest base folder\n",
    "    longest = gi.libraries.get_folders(libID, name=\"/\")[0]\n",
    "    folders = gi.libraries.get_folders(libID)\n",
    "    for folder in folders:\n",
    "        if path.startswith(folder[\"name\"]):\n",
    "            # Look for the longest pathname overlap. The next character in path MUST be \"/\",\n",
    "            # since otherwise adding \"/a/b/c2\" when \"/a/b/c\" exists would result in \"/a/b/c/2\"!\n",
    "            if len(folder[\"name\"]) > len(longest[\"name\"]) and path[len(folder[\"name\"])] == \"/\":\n",
    "                longest = folder\n",
    "    \n",
    "    # shorten the path name if relevant\n",
    "    idx = len(longest[\"name\"])\n",
    "    pathLeft = path[idx:]\n",
    "    if pathLeft.startswith(\"/\"):\n",
    "        pathLeft = pathLeft[1:]\n",
    "\n",
    "    for fName in pathLeft.split(\"/\"):\n",
    "        gi.libraries.create_folder(libID, fName, base_folder_id=longest[\"id\"]) # returns None\n",
    "        if longest[\"name\"] != \"/\":\n",
    "            newFName = \"{}/{}\".format(longest[\"name\"], fName)\n",
    "        else:\n",
    "            newFName = \"/{}\".format(fName)\n",
    "        longest = gi.libraries.get_folders(libID, name=newFName)[0]\n",
    "    \n",
    "    return longest[\"id\"]\n",
    "\n",
    "\n",
    "def addFileToLibraryFolder(gi, libID, folderID, fileName, file_type='auto', dbkey='?', link=True, roles=''):\n",
    "    \"\"\"\n",
    "    Link/copy \"fname\" into the library and folder specified by libID and folderID. These MUST exist.\n",
    "    \n",
    "    file_type, dbkey, and roles are pass through to upload_from_galaxy_filesystem().\n",
    "    \n",
    "    link must be True (default) or False. If it's False then files are copied in.\n",
    "    \n",
    "    This returns a dictionary with keys: name, url, and id (or presumably None on error).\n",
    "    \"\"\"\n",
    "    if link == True:\n",
    "        link_data_only = 'link_to_files'\n",
    "    else:\n",
    "        link_data_only = 'copy_files'\n",
    "    \n",
    "    try:\n",
    "        rv = gi.libraries.upload_from_galaxy_filesystem(libID,\n",
    "                                                        fileName,\n",
    "                                                        folder_id=folderID,\n",
    "                                                        file_type=file_type,\n",
    "                                                        dbkey=dbkey,\n",
    "                                                        link_data_only=link_data_only,\n",
    "                                                        roles=roles)\n",
    "        return rv\n",
    "    except:\n",
    "        sys.stderr.write(\"Received the following error while adding '{}': '{}'\".format(fileName, sys.exc_info()[0]))\n",
    "        return None\n",
    "\n",
    "\n",
    "def addFileToLibrary(gi, libraryName, path, fileName, file_type='auto', dbkey='?', link=True, roles=''):\n",
    "    \"\"\"\n",
    "    Add fileName to path in libraryName. gi is a GalaxyInstance\n",
    "    \n",
    "    The other parameters are passed to upload_from_galaxy_filesystem()\n",
    "    \"\"\"\n",
    "    libID = getLibID(gi, libraryName)\n",
    "    folderID = getFolderID(gi, libID, path)\n",
    "    dataset = addFileToLibraryFolder(gi, libID, folderID, fileName, file_type=file_type, dbkey=dbkey, link=link, roles='')\n",
    "    if not dataset:\n",
    "        raise RuntimeError(\"Error adding '{}' to '{}'\".format(fileName, path))\n",
    "    return dataset"
   ]
  },
  {
   "cell_type": "markdown",
   "metadata": {},
   "source": [
    "The most common \"file_type\"s will be:\n",
    "    * bam\n",
    "    * bigwig\n",
    "    * fastqsanger\n",
    "    * tabular\n",
    "\n",
    "Below I'll add a bigWig file (\"/data/python2.bw\" on the server) to \"foo bar\":\"/foo/bar/sniggly\" and \"foo bar\":\"/foo/bar/sniggly2\". We'll add it with different file types to demonstrate how to do that."
   ]
  },
  {
   "cell_type": "code",
   "execution_count": 4,
   "metadata": {
    "collapsed": false
   },
   "outputs": [
    {
     "name": "stdout",
     "output_type": "stream",
     "text": [
      "[{'name': 'python2.bw', 'url': '/api/libraries/f2db41e1fa331b3e/contents/417e33144b294c21', 'id': '417e33144b294c21'}]\n",
      "[{'name': 'python2.bw', 'url': '/api/libraries/f2db41e1fa331b3e/contents/2d9035b3fc152403', 'id': '2d9035b3fc152403'}]\n",
      "[{'name': 'python2.bw', 'url': '/api/libraries/f2db41e1fa331b3e/contents/5a1cff6882ddb5b2', 'id': '5a1cff6882ddb5b2'}]\n"
     ]
    }
   ],
   "source": [
    "dataset = addFileToLibrary(gi, \"foo bar\", \"/foo/bar/sniggly\", \"/data/python2.bw\")\n",
    "print(dataset)\n",
    "dataset = addFileToLibrary(gi, \"foo bar\", \"/foo/bar/sniggly2\", \"/data/python2.bw\", file_type=\"fastqsanger\")\n",
    "print(dataset)\n",
    "dataset = addFileToLibrary(gi, \"foo bar\", \"/foo/bar/sniggly\", \"/data/python2.bw\", file_type=\"fastqsanger\")\n",
    "print(dataset)"
   ]
  },
  {
   "cell_type": "markdown",
   "metadata": {},
   "source": [
    "These are now the folders that exist in \"foo bar\":"
   ]
  },
  {
   "cell_type": "code",
   "execution_count": 5,
   "metadata": {
    "collapsed": false
   },
   "outputs": [
    {
     "name": "stdout",
     "output_type": "stream",
     "text": [
      "{'name': '/', 'url': '/api/libraries/f2db41e1fa331b3e/contents/Ff2db41e1fa331b3e', 'id': 'Ff2db41e1fa331b3e', 'type': 'folder'}\n",
      "{'name': '/foo', 'url': '/api/libraries/f2db41e1fa331b3e/contents/Fba03619785539f8c', 'id': 'Fba03619785539f8c', 'type': 'folder'}\n",
      "{'name': '/foo/bar', 'url': '/api/libraries/f2db41e1fa331b3e/contents/Fcbbbf59e8f08c98c', 'id': 'Fcbbbf59e8f08c98c', 'type': 'folder'}\n",
      "{'name': '/foo/bar/sniggly', 'url': '/api/libraries/f2db41e1fa331b3e/contents/F964b37715ec9bd22', 'id': 'F964b37715ec9bd22', 'type': 'folder'}\n",
      "{'name': '/foo/bar/sniggly2', 'url': '/api/libraries/f2db41e1fa331b3e/contents/F1fad1eaf5f4f1766', 'id': 'F1fad1eaf5f4f1766', 'type': 'folder'}\n"
     ]
    }
   ],
   "source": [
    "libID = getLibID(gi, \"foo bar\")\n",
    "for l in gi.libraries.get_folders(libID):\n",
    "    print(l)"
   ]
  },
  {
   "cell_type": "code",
   "execution_count": null,
   "metadata": {
    "collapsed": true
   },
   "outputs": [],
   "source": []
  }
 ],
 "metadata": {
  "kernelspec": {
   "display_name": "Python 3",
   "language": "python",
   "name": "python3"
  },
  "language_info": {
   "codemirror_mode": {
    "name": "ipython",
    "version": 3
   },
   "file_extension": ".py",
   "mimetype": "text/x-python",
   "name": "python",
   "nbconvert_exporter": "python",
   "pygments_lexer": "ipython3",
   "version": "3.5.2"
  }
 },
 "nbformat": 4,
 "nbformat_minor": 0
}
